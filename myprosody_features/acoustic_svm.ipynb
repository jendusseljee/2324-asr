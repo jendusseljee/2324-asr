{
 "cells": [
  {
   "cell_type": "code",
   "execution_count": 2,
   "metadata": {},
   "outputs": [
    {
     "name": "stderr",
     "output_type": "stream",
     "text": [
      "/vol/tensusers3/jdusseljee/2324-asr/.venv/lib/python3.10/site-packages/tqdm/auto.py:21: TqdmWarning: IProgress not found. Please update jupyter and ipywidgets. See https://ipywidgets.readthedocs.io/en/stable/user_install.html\n",
      "  from .autonotebook import tqdm as notebook_tqdm\n"
     ]
    }
   ],
   "source": [
    "import torch\n",
    "import librosa\n",
    "import pandas as pd\n",
    "import numpy as np\n",
    "from parselmouth import Sound\n",
    "from pathlib import Path\n",
    "\n",
    "from sklearn.svm import SVC\n",
    "from sklearn.model_selection import KFold\n",
    "from sklearn.metrics import roc_curve, roc_auc_score, RocCurveDisplay\n",
    "\n",
    "from tqdm.auto import tqdm\n",
    "import matplotlib.pyplot as plt\n",
    "\n",
    "import pickle"
   ]
  },
  {
   "cell_type": "code",
   "execution_count": 3,
   "metadata": {},
   "outputs": [],
   "source": [
    "class paths:\n",
    "  features_csv = '/vol/tensusers3/jdusseljee/2324-asr/myprosody_features/features.csv'"
   ]
  },
  {
   "cell_type": "code",
   "execution_count": 4,
   "metadata": {},
   "outputs": [
    {
     "data": {
      "text/html": [
       "<div>\n",
       "<style scoped>\n",
       "    .dataframe tbody tr th:only-of-type {\n",
       "        vertical-align: middle;\n",
       "    }\n",
       "\n",
       "    .dataframe tbody tr th {\n",
       "        vertical-align: top;\n",
       "    }\n",
       "\n",
       "    .dataframe thead th {\n",
       "        text-align: right;\n",
       "    }\n",
       "</style>\n",
       "<table border=\"1\" class=\"dataframe\">\n",
       "  <thead>\n",
       "    <tr style=\"text-align: right;\">\n",
       "      <th></th>\n",
       "      <th>Unnamed: 0</th>\n",
       "      <th>ID</th>\n",
       "      <th>age</th>\n",
       "      <th>gender</th>\n",
       "      <th>mmse</th>\n",
       "      <th>class</th>\n",
       "      <th>f1</th>\n",
       "      <th>f2</th>\n",
       "      <th>f3</th>\n",
       "      <th>f4</th>\n",
       "      <th>...</th>\n",
       "      <th>f6</th>\n",
       "      <th>f7</th>\n",
       "      <th>f8</th>\n",
       "      <th>f9</th>\n",
       "      <th>f10</th>\n",
       "      <th>f11</th>\n",
       "      <th>f12</th>\n",
       "      <th>f13</th>\n",
       "      <th>f14</th>\n",
       "      <th>f15</th>\n",
       "    </tr>\n",
       "  </thead>\n",
       "  <tbody>\n",
       "    <tr>\n",
       "      <th>1</th>\n",
       "      <td>1</td>\n",
       "      <td>S002</td>\n",
       "      <td>62</td>\n",
       "      <td>1</td>\n",
       "      <td>30.0</td>\n",
       "      <td>0</td>\n",
       "      <td>5</td>\n",
       "      <td>19</td>\n",
       "      <td>0.09</td>\n",
       "      <td>0.7</td>\n",
       "      <td>...</td>\n",
       "      <td>57.1</td>\n",
       "      <td>0.1</td>\n",
       "      <td>204.37</td>\n",
       "      <td>26.91</td>\n",
       "      <td>196.3</td>\n",
       "      <td>178</td>\n",
       "      <td>259</td>\n",
       "      <td>186</td>\n",
       "      <td>202</td>\n",
       "      <td>0.07</td>\n",
       "    </tr>\n",
       "    <tr>\n",
       "      <th>2</th>\n",
       "      <td>2</td>\n",
       "      <td>S003</td>\n",
       "      <td>69</td>\n",
       "      <td>1</td>\n",
       "      <td>29.0</td>\n",
       "      <td>0</td>\n",
       "      <td>195</td>\n",
       "      <td>25</td>\n",
       "      <td>2.80</td>\n",
       "      <td>4.7</td>\n",
       "      <td>...</td>\n",
       "      <td>69.1</td>\n",
       "      <td>0.6</td>\n",
       "      <td>193.19</td>\n",
       "      <td>38.51</td>\n",
       "      <td>188.2</td>\n",
       "      <td>76</td>\n",
       "      <td>391</td>\n",
       "      <td>170</td>\n",
       "      <td>211</td>\n",
       "      <td>0.70</td>\n",
       "    </tr>\n",
       "  </tbody>\n",
       "</table>\n",
       "<p>2 rows × 21 columns</p>\n",
       "</div>"
      ],
      "text/plain": [
       "   Unnamed: 0    ID  age  gender  mmse  class   f1  f2    f3   f4  ...    f6  \\\n",
       "1           1  S002   62       1  30.0      0    5  19  0.09  0.7  ...  57.1   \n",
       "2           2  S003   69       1  29.0      0  195  25  2.80  4.7  ...  69.1   \n",
       "\n",
       "    f7      f8     f9    f10  f11  f12  f13  f14   f15  \n",
       "1  0.1  204.37  26.91  196.3  178  259  186  202  0.07  \n",
       "2  0.6  193.19  38.51  188.2   76  391  170  211  0.70  \n",
       "\n",
       "[2 rows x 21 columns]"
      ]
     },
     "execution_count": 4,
     "metadata": {},
     "output_type": "execute_result"
    }
   ],
   "source": [
    "df = pd.read_csv(paths.features_csv)\n",
    "df = df.dropna()\n",
    "df['gender'] = df['gender'].apply(lambda g: 0 if g == 'male' else 1)\n",
    "\n",
    "df.head(2)"
   ]
  },
  {
   "cell_type": "code",
   "execution_count": 6,
   "metadata": {},
   "outputs": [
    {
     "name": "stdout",
     "output_type": "stream",
     "text": [
      "['f1', 'f2', 'f3', 'f4', 'f5', 'f6', 'f7', 'f8', 'f9', 'f10', 'f11', 'f12', 'f13', 'f14']\n"
     ]
    }
   ],
   "source": [
    "feature_cols = df.columns.to_list()[6:-1] # + ['age', 'gender']\n",
    "print(feature_cols)"
   ]
  },
  {
   "cell_type": "code",
   "execution_count": 7,
   "metadata": {},
   "outputs": [],
   "source": [
    "kfold = KFold(n_splits=5, shuffle=True, random_state=42)"
   ]
  },
  {
   "cell_type": "code",
   "execution_count": 8,
   "metadata": {},
   "outputs": [],
   "source": [
    "pred_df = pd.DataFrame()\n",
    "\n",
    "for train, val in kfold.split(df):\n",
    "  train_df = df.iloc[train]\n",
    "  val_df = df.iloc[val].copy()\n",
    "\n",
    "  X_train = train_df[feature_cols]\n",
    "  y_train = train_df['class']\n",
    "  X_val = val_df[feature_cols]\n",
    "  y_val = val_df['class']\n",
    "\n",
    "  svc = SVC(probability=True, kernel='linear')\n",
    "  svc.fit(X_train, y_train)\n",
    "\n",
    "  val_df.loc[:, 'pred'] = svc.predict_proba(X_val)[:,1]\n",
    "\n",
    "  pred_df = pd.concat([pred_df, val_df])"
   ]
  },
  {
   "cell_type": "code",
   "execution_count": 9,
   "metadata": {},
   "outputs": [
    {
     "name": "stdout",
     "output_type": "stream",
     "text": [
      "0.6390635918937806\n"
     ]
    }
   ],
   "source": [
    "print(roc_auc_score(pred_df['class'], pred_df['pred']))\n",
    "fpr, tpr, thresholds = roc_curve(pred_df['class'], pred_df['pred'])"
   ]
  },
  {
   "cell_type": "code",
   "execution_count": 10,
   "metadata": {},
   "outputs": [],
   "source": [
    "with open('fpr_svm.pickle', 'wb') as handle:\n",
    "    pickle.dump(fpr, handle, protocol=pickle.HIGHEST_PROTOCOL)\n",
    "with open('tpr_svm.pickle', 'wb') as handle:\n",
    "    pickle.dump(tpr, handle, protocol=pickle.HIGHEST_PROTOCOL)"
   ]
  },
  {
   "cell_type": "code",
   "execution_count": 11,
   "metadata": {},
   "outputs": [
    {
     "data": {
      "image/png": "[encoded data removed]",
      "text/plain": [
       "<Figure size 640x480 with 1 Axes>"
      ]
     },
     "metadata": {},
     "output_type": "display_data"
    }
   ],
   "source": [
    "display = RocCurveDisplay(fpr=fpr, tpr=tpr, roc_auc=roc_auc_score(pred_df['class'], pred_df['pred']), estimator_name='SVM')\n",
    "display.plot()\n",
    "\n",
    "# Add AUC = 0.5 line\n",
    "plt.plot([0, 1], [0, 1], linestyle='--', color='gray', label='Random (AUC = 0.5)')\n",
    "\n",
    "# Show the plot with legend\n",
    "plt.legend()\n",
    "plt.show()"
   ]
  }
 ],
 "metadata": {
  "kernelspec": {
   "display_name": ".venv",
   "language": "python",
   "name": "python3"
  },
  "language_info": {
   "codemirror_mode": {
    "name": "ipython",
    "version": 3
   },
   "file_extension": ".py",
   "mimetype": "text/x-python",
   "name": "python",
   "nbconvert_exporter": "python",
   "pygments_lexer": "ipython3",
   "version": "3.10.6"
  }
 },
 "nbformat": 4,
 "nbformat_minor": 2
}
