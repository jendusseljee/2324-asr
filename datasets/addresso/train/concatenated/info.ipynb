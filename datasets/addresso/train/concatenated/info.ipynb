{
 "cells": [
  {
   "cell_type": "code",
   "execution_count": 14,
   "metadata": {},
   "outputs": [],
   "source": [
    "import librosa\n",
    "import numpy as np\n",
    "import os\n",
    "import pandas as pd"
   ]
  },
  {
   "cell_type": "code",
   "execution_count": 9,
   "metadata": {},
   "outputs": [],
   "source": [
    "# Calculate lengths of audio files\n",
    "def get_audio_lengths(audio_dir):\n",
    "    audio_lengths = []\n",
    "    for audio_file in os.listdir(audio_dir):\n",
    "        if audio_file.endswith('.wav'):\n",
    "            audio_path = os.path.join(audio_dir, audio_file)\n",
    "            y, sr = librosa.load(audio_path, sr=None)\n",
    "            audio_lengths.append(len(y)/sr)\n",
    "    return audio_lengths"
   ]
  },
  {
   "cell_type": "code",
   "execution_count": 10,
   "metadata": {},
   "outputs": [],
   "source": [
    "lengths = get_audio_lengths('.')"
   ]
  },
  {
   "cell_type": "code",
   "execution_count": 12,
   "metadata": {},
   "outputs": [
    {
     "name": "stdout",
     "output_type": "stream",
     "text": [
      "[13.998185941043085, 46.760226757369615, 70.51342403628118, 29.39659863945578, 43.74417233560091, 14.505034013605442, 23.456371882086167, 21.47528344671202, 22.898231292517007, 18.28702947845805, 36.60045351473923, 36.10231292517007, 20.465034013605443, 38.664263038548754, 24.894149659863945, 28.305124716553287, 41.093061224489794, 61.698185941043086, 94.34312925170067, 17.92612244897959, 25.62530612244898, 35.98716553287982, 29.783174603174604, 29.839138321995463, 15.538095238095238, 23.98108843537415, 24.632244897959183, 26.40403628117914, 53.02743764172335, 62.52517006802721, 12.171111111111111, 55.26517006802721, 41.70789115646259, 31.64108843537415, 16.65918367346939, 57.576689342403625, 58.10943310657596, 42.223174603174606, 43.59319727891157, 27.60607709750567, 24.256009070294784, 46.2124716553288, 16.06607709750567, 19.232154195011336, 18.87904761904762, 24.984126984126984, 10.6681179138322, 23.317278911564625, 15.872108843537415, 37.57219954648526, 24.91111111111111, 33.150068027210885, 45.26621315192744, 48.32140589569161, 10.096145124716553, 31.90312925170068, 72.54195011337869, 36.933242630385486, 67.18063492063492, 22.546394557823128, 26.031337868480726, 15.180226757369615, 55.54349206349206, 39.10607709750567, 23.71233560090703, 38.368208616780045, 29.460362811791384, 33.24022675736961, 40.59124716553288, 31.162267573696145, 29.15433106575964, 20.558095238095238, 48.07219954648526, 27.054104308390023, 96.02131519274377, 26.15206349206349, 31.081360544217688, 18.66204081632653, 37.5784126984127, 51.27537414965986, 31.459092970521542, 18.582267573696146, 8.248163265306122, 36.178321995464856, 12.9540589569161, 19.04612244897959, 26.033015873015874, 20.117097505668934, 42.76335600907029, 36.58176870748299, 12.16421768707483, 35.702222222222225, 7.891020408163265, 13.584172335600908, 35.13015873015873, 27.753151927437642, 34.030249433106576, 20.033106575963718, 17.440136054421767, 8.838004535147393, 10.098049886621315, 13.855011337868481, 8.507074829931973, 13.649024943310657, 31.76825396825397, 17.802086167800454, 24.22018140589569, 51.635555555555555]\n",
      "Mean: 31.50927941546989\n",
      "Std: 16.968738753316607\n",
      "Min: 7.891020408163265\n",
      "Max: 96.02131519274377\n",
      "108\n"
     ]
    }
   ],
   "source": [
    "print(lengths)\n",
    "print('Mean:', np.mean(lengths))\n",
    "print('Std:', np.std(lengths))\n",
    "print('Min:', np.min(lengths))\n",
    "print('Max:', np.max(lengths))\n",
    "print(len(lengths))"
   ]
  },
  {
   "cell_type": "code",
   "execution_count": 16,
   "metadata": {},
   "outputs": [],
   "source": [
    "csv = pd.read_csv('../meta_data.csv')"
   ]
  },
  {
   "cell_type": "code",
   "execution_count": 17,
   "metadata": {},
   "outputs": [
    {
     "name": "stdout",
     "output_type": "stream",
     "text": [
      "Index(['ID', 'age', 'gender', 'mmse', 'class'], dtype='object')\n"
     ]
    }
   ],
   "source": [
    "# Print columns\n",
    "print(csv.columns)"
   ]
  },
  {
   "cell_type": "code",
   "execution_count": 32,
   "metadata": {},
   "outputs": [
    {
     "name": "stdout",
     "output_type": "stream",
     "text": [
      "(50, 55) 1 0 1 0\n",
      "(55, 60) 5 4 5 4\n",
      "(60, 65) 3 6 3 6\n",
      "(65, 70) 6 10 6 10\n",
      "(70, 75) 6 8 6 8\n",
      "(75, 80) 3 2 3 2\n",
      "Total 24 30 24 30\n"
     ]
    }
   ],
   "source": [
    "age_intervals = [(50,55), (55,60), (60,65), (65,70), (70,75), (75,80)]\n",
    "\n",
    "# Count number of negative and positive classes per gender per age interval\n",
    "for age_interval in age_intervals:\n",
    "    entries = csv[(csv['age'] >= age_interval[0]) & (csv['age'] < age_interval[1])]\n",
    "    positive = entries[entries['class'] == 1]\n",
    "    negative = entries[entries['class'] == 0]\n",
    "    p_m = len(positive[positive['gender'] == 'male'])\n",
    "    p_f = len(positive[positive['gender'] == 'female'])\n",
    "    n_m = len(negative[negative['gender'] == 'male'])\n",
    "    n_f = len(negative[negative['gender'] == 'female'])\n",
    "\n",
    "    print(age_interval, p_m, p_f, n_m, n_f)\n",
    "\n",
    "positive = csv[csv['class'] == 1]\n",
    "negative = csv[csv['class'] == 0]\n",
    "p_m = len(positive[positive['gender'] == 'male'])\n",
    "p_f = len(positive[positive['gender'] == 'female'])\n",
    "n_m = len(negative[negative['gender'] == 'male'])\n",
    "n_f = len(negative[negative['gender'] == 'female'])\n",
    "\n",
    "print('Total', p_m, p_f, n_m, n_f)"
   ]
  },
  {
   "cell_type": "code",
   "execution_count": 33,
   "metadata": {},
   "outputs": [],
   "source": [
    "# List all IDs per class\n",
    "positive_ids = csv[csv['class'] == 1]['ID']\n",
    "negative_ids = csv[csv['class'] == 0]['ID']"
   ]
  },
  {
   "cell_type": "code",
   "execution_count": 37,
   "metadata": {},
   "outputs": [
    {
     "name": "stdout",
     "output_type": "stream",
     "text": [
      "Positive audio: 1476\n",
      "Negative audio: 1358\n"
     ]
    }
   ],
   "source": [
    "# Count number of audio files per class\n",
    "positive_audio = 0\n",
    "negative_audio = 0\n",
    "\n",
    "for audio_file in os.listdir('../normalised'):\n",
    "    if audio_file.endswith('.wav'):\n",
    "        if audio_file.split('-')[0] in positive_ids.values:\n",
    "            positive_audio += 1\n",
    "        elif audio_file.split('-')[0] in negative_ids.values:\n",
    "            negative_audio += 1\n",
    "\n",
    "print('Positive audio:', positive_audio)\n",
    "print('Negative audio:', negative_audio)"
   ]
  }
 ],
 "metadata": {
  "kernelspec": {
   "display_name": ".venv",
   "language": "python",
   "name": "python3"
  },
  "language_info": {
   "codemirror_mode": {
    "name": "ipython",
    "version": 3
   },
   "file_extension": ".py",
   "mimetype": "text/x-python",
   "name": "python",
   "nbconvert_exporter": "python",
   "pygments_lexer": "ipython3",
   "version": "3.10.6"
  }
 },
 "nbformat": 4,
 "nbformat_minor": 2
}
