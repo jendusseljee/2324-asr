{
 "cells": [
  {
   "cell_type": "code",
   "execution_count": 69,
   "metadata": {},
   "outputs": [],
   "source": [
    "import torch\n",
    "import librosa\n",
    "import pandas as pd\n",
    "import numpy as np\n",
    "import pylangacq\n",
    "\n",
    "from sklearn.svm import SVC\n",
    "from sklearn.model_selection import cross_val_score\n",
    "from sklearn.model_selection import train_test_split"
   ]
  },
  {
   "cell_type": "code",
   "execution_count": 70,
   "metadata": {},
   "outputs": [
    {
     "data": {
      "text/html": [
       "<div>\n",
       "<style scoped>\n",
       "    .dataframe tbody tr th:only-of-type {\n",
       "        vertical-align: middle;\n",
       "    }\n",
       "\n",
       "    .dataframe tbody tr th {\n",
       "        vertical-align: top;\n",
       "    }\n",
       "\n",
       "    .dataframe thead th {\n",
       "        text-align: right;\n",
       "    }\n",
       "</style>\n",
       "<table border=\"1\" class=\"dataframe\">\n",
       "  <thead>\n",
       "    <tr style=\"text-align: right;\">\n",
       "      <th></th>\n",
       "      <th>ID</th>\n",
       "      <th>age</th>\n",
       "      <th>gender</th>\n",
       "      <th>mmse</th>\n",
       "      <th>path</th>\n",
       "      <th>class</th>\n",
       "    </tr>\n",
       "  </thead>\n",
       "  <tbody>\n",
       "    <tr>\n",
       "      <th>0</th>\n",
       "      <td>S001</td>\n",
       "      <td>74</td>\n",
       "      <td>male</td>\n",
       "      <td>NaN</td>\n",
       "      <td>datasets/addresso/train/transcription/cc/S001.cha</td>\n",
       "      <td>0</td>\n",
       "    </tr>\n",
       "    <tr>\n",
       "      <th>1</th>\n",
       "      <td>S002</td>\n",
       "      <td>62</td>\n",
       "      <td>female</td>\n",
       "      <td>30.0</td>\n",
       "      <td>datasets/addresso/train/transcription/cc/S002.cha</td>\n",
       "      <td>0</td>\n",
       "    </tr>\n",
       "    <tr>\n",
       "      <th>2</th>\n",
       "      <td>S003</td>\n",
       "      <td>69</td>\n",
       "      <td>female</td>\n",
       "      <td>29.0</td>\n",
       "      <td>datasets/addresso/train/transcription/cc/S003.cha</td>\n",
       "      <td>0</td>\n",
       "    </tr>\n",
       "    <tr>\n",
       "      <th>3</th>\n",
       "      <td>S004</td>\n",
       "      <td>71</td>\n",
       "      <td>female</td>\n",
       "      <td>30.0</td>\n",
       "      <td>datasets/addresso/train/transcription/cc/S004.cha</td>\n",
       "      <td>0</td>\n",
       "    </tr>\n",
       "    <tr>\n",
       "      <th>4</th>\n",
       "      <td>S005</td>\n",
       "      <td>74</td>\n",
       "      <td>female</td>\n",
       "      <td>30.0</td>\n",
       "      <td>datasets/addresso/train/transcription/cc/S005.cha</td>\n",
       "      <td>0</td>\n",
       "    </tr>\n",
       "  </tbody>\n",
       "</table>\n",
       "</div>"
      ],
      "text/plain": [
       "     ID  age  gender  mmse                                               path  \\\n",
       "0  S001   74    male   NaN  datasets/addresso/train/transcription/cc/S001.cha   \n",
       "1  S002   62  female  30.0  datasets/addresso/train/transcription/cc/S002.cha   \n",
       "2  S003   69  female  29.0  datasets/addresso/train/transcription/cc/S003.cha   \n",
       "3  S004   71  female  30.0  datasets/addresso/train/transcription/cc/S004.cha   \n",
       "4  S005   74  female  30.0  datasets/addresso/train/transcription/cc/S005.cha   \n",
       "\n",
       "   class  \n",
       "0      0  \n",
       "1      0  \n",
       "2      0  \n",
       "3      0  \n",
       "4      0  "
      ]
     },
     "execution_count": 70,
     "metadata": {},
     "output_type": "execute_result"
    }
   ],
   "source": [
    "train_df_cc = pd.read_csv('datasets/addresso/train/cc_meta_data.csv')\n",
    "train_df_cd = pd.read_csv('datasets/addresso/train/cd_meta_data.csv')\n",
    "train_df_cc['path'] = 'datasets/addresso/train/transcription/cc/' + train_df_cc['ID'] + '.cha'\n",
    "train_df_cd['path'] = 'datasets/addresso/train/transcription/cd/' + train_df_cd['ID'] + '.cha'\n",
    "train_df_cc['class'] = 0\n",
    "train_df_cd['class'] = 1\n",
    "\n",
    "train_df = pd.concat([train_df_cc, train_df_cd], ignore_index=True)\n",
    "\n",
    "train_df.head()"
   ]
  },
  {
   "cell_type": "code",
   "execution_count": 71,
   "metadata": {},
   "outputs": [],
   "source": [
    "vocab = []"
   ]
  },
  {
   "cell_type": "code",
   "execution_count": 72,
   "metadata": {},
   "outputs": [],
   "source": [
    "def path_to_features(path):\n",
    "    chat = pylangacq.read_chat(path)\n",
    "    utterances = [utterance for utterance in chat.utterances() if utterance.participant == 'PAR']\n",
    "    tokens = [token for utterance in utterances for token in utterance.tokens]\n",
    "    words = [token.word for token in tokens]\n",
    "    \n",
    "    # bag of words\n",
    "    features = np.zeros(1000)\n",
    "    for word in words:\n",
    "        if word in vocab:\n",
    "            features[vocab.index(word)] += 1\n",
    "        else:\n",
    "            vocab.append(word)\n",
    "            features = np.append(features, 1)\n",
    "\n",
    "    # number of words\n",
    "    features = np.append(features, len(words))\n",
    "\n",
    "    return features"
   ]
  },
  {
   "cell_type": "code",
   "execution_count": 78,
   "metadata": {},
   "outputs": [],
   "source": [
    "train_df['features'] = train_df['path'].apply(path_to_features)\n",
    "\n",
    "X = np.stack(train_df['path'].apply(path_to_features))\n",
    "y = train_df['class']\n",
    "\n",
    "X_train, X_test, y_train, y_test = train_test_split(X, y, test_size=0.2, random_state=42)"
   ]
  },
  {
   "cell_type": "code",
   "execution_count": 109,
   "metadata": {},
   "outputs": [],
   "source": [
    "clf = SVC(kernel='linear')"
   ]
  },
  {
   "cell_type": "code",
   "execution_count": 110,
   "metadata": {},
   "outputs": [],
   "source": [
    "scores = cross_val_score(clf, X_train, y_train, cv=5)"
   ]
  },
  {
   "cell_type": "markdown",
   "metadata": {},
   "source": [
    "# Test"
   ]
  },
  {
   "cell_type": "code",
   "execution_count": 112,
   "metadata": {},
   "outputs": [
    {
     "name": "stdout",
     "output_type": "stream",
     "text": [
      "0.8366013071895424\n"
     ]
    }
   ],
   "source": [
    "print(np.mean(scores))"
   ]
  }
 ],
 "metadata": {
  "kernelspec": {
   "display_name": "torch-gpu",
   "language": "python",
   "name": "python3"
  },
  "language_info": {
   "codemirror_mode": {
    "name": "ipython",
    "version": 3
   },
   "file_extension": ".py",
   "mimetype": "text/x-python",
   "name": "python",
   "nbconvert_exporter": "python",
   "pygments_lexer": "ipython3",
   "version": "3.8.17"
  }
 },
 "nbformat": 4,
 "nbformat_minor": 2
}
